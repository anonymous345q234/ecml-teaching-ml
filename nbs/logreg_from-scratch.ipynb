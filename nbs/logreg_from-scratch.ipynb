{
 "cells": [
  {
   "cell_type": "markdown",
   "metadata": {},
   "source": [
    "# Softmax Regression (Using the PyTorch Module API)"
   ]
  },
  {
   "cell_type": "markdown",
   "metadata": {},
   "source": [
    "Implementation of *classic* softmax regression (multinomial logistic regression)."
   ]
  },
  {
   "cell_type": "markdown",
   "metadata": {},
   "source": [
    "## Imports"
   ]
  },
  {
   "cell_type": "code",
   "execution_count": 1,
   "metadata": {},
   "outputs": [],
   "source": [
    "%matplotlib inline\n",
    "import matplotlib.pyplot as plt\n",
    "import torch\n",
    "import torch.nn.functional as F\n",
    "\n",
    "## Import from helper.py\n",
    "from helper import load_iris\n",
    "from helper import plot_iris\n",
    "from helper import plot_decision_regions"
   ]
  },
  {
   "cell_type": "markdown",
   "metadata": {},
   "source": [
    "## Preparing a dataset"
   ]
  },
  {
   "cell_type": "code",
   "execution_count": 2,
   "metadata": {},
   "outputs": [
    {
     "data": {
      "image/png": "[encoded data removed]",
      "text/plain": [
       "<Figure size 504x180 with 2 Axes>"
      ]
     },
     "metadata": {
      "needs_background": "light"
     },
     "output_type": "display_data"
    }
   ],
   "source": [
    "X_train, y_train, X_test, y_test = load_iris()\n",
    "plot_iris(X_train, y_train, X_test, y_test)"
   ]
  },
  {
   "cell_type": "markdown",
   "metadata": {},
   "source": [
    "## High-level implementation using the nn.Module API"
   ]
  },
  {
   "cell_type": "code",
   "execution_count": 3,
   "metadata": {},
   "outputs": [],
   "source": [
    "DEVICE = torch.device(\"cuda:0\" if torch.cuda.is_available() else \"cpu\")"
   ]
  },
  {
   "cell_type": "code",
   "execution_count": 4,
   "metadata": {},
   "outputs": [],
   "source": [
    "class SoftmaxRegression2(torch.nn.Module):\n",
    "\n",
    "    def __init__(self, num_features, num_classes):\n",
    "        super(SoftmaxRegression2, self).__init__()\n",
    "        self.linear = torch.nn.Linear(num_features, num_classes)\n",
    "        # initialize weights to zeros here,\n",
    "        # since we used zero weights in the\n",
    "        # manual approach\n",
    "        \n",
    "        self.linear.weight.detach().zero_()\n",
    "        self.linear.bias.detach().zero_()\n",
    "        # Note: the trailing underscore\n",
    "        # means \"in-place operation\" in the context\n",
    "        # of PyTorch\n",
    "        \n",
    "    def forward(self, x):\n",
    "        logits = self.linear(x)\n",
    "        probas = F.softmax(logits, dim=1)\n",
    "        return logits, probas\n",
    "\n",
    "model2 = SoftmaxRegression2(num_features=2, num_classes=3).to(DEVICE)\n",
    "optimizer = torch.optim.SGD(model2.parameters(), lr=0.1)"
   ]
  },
  {
   "cell_type": "code",
   "execution_count": 5,
   "metadata": {},
   "outputs": [
    {
     "name": "stdout",
     "output_type": "stream",
     "text": [
      "Epoch: 001 | Train ACC: 0.833 | Cost: 1.055\n",
      "Epoch: 002 | Train ACC: 0.833 | Cost: 1.015\n",
      "Epoch: 003 | Train ACC: 0.833 | Cost: 0.979\n",
      "Epoch: 004 | Train ACC: 0.833 | Cost: 0.945\n",
      "Epoch: 005 | Train ACC: 0.833 | Cost: 0.914\n",
      "Epoch: 006 | Train ACC: 0.833 | Cost: 0.885\n",
      "Epoch: 007 | Train ACC: 0.833 | Cost: 0.859\n",
      "Epoch: 008 | Train ACC: 0.833 | Cost: 0.835\n",
      "Epoch: 009 | Train ACC: 0.833 | Cost: 0.812\n",
      "Epoch: 010 | Train ACC: 0.833 | Cost: 0.791\n",
      "Epoch: 011 | Train ACC: 0.833 | Cost: 0.772\n",
      "Epoch: 012 | Train ACC: 0.833 | Cost: 0.754\n",
      "Epoch: 013 | Train ACC: 0.833 | Cost: 0.737\n",
      "Epoch: 014 | Train ACC: 0.833 | Cost: 0.722\n",
      "Epoch: 015 | Train ACC: 0.833 | Cost: 0.707\n",
      "Epoch: 016 | Train ACC: 0.833 | Cost: 0.693\n",
      "Epoch: 017 | Train ACC: 0.833 | Cost: 0.680\n",
      "Epoch: 018 | Train ACC: 0.833 | Cost: 0.668\n",
      "Epoch: 019 | Train ACC: 0.833 | Cost: 0.657\n",
      "Epoch: 020 | Train ACC: 0.833 | Cost: 0.646\n",
      "Epoch: 021 | Train ACC: 0.842 | Cost: 0.636\n",
      "Epoch: 022 | Train ACC: 0.867 | Cost: 0.627\n",
      "Epoch: 023 | Train ACC: 0.867 | Cost: 0.618\n",
      "Epoch: 024 | Train ACC: 0.867 | Cost: 0.609\n",
      "Epoch: 025 | Train ACC: 0.867 | Cost: 0.601\n",
      "Epoch: 026 | Train ACC: 0.867 | Cost: 0.593\n",
      "Epoch: 027 | Train ACC: 0.858 | Cost: 0.586\n",
      "Epoch: 028 | Train ACC: 0.858 | Cost: 0.579\n",
      "Epoch: 029 | Train ACC: 0.858 | Cost: 0.572\n",
      "Epoch: 030 | Train ACC: 0.858 | Cost: 0.566\n",
      "Epoch: 031 | Train ACC: 0.858 | Cost: 0.560\n",
      "Epoch: 032 | Train ACC: 0.858 | Cost: 0.554\n",
      "Epoch: 033 | Train ACC: 0.858 | Cost: 0.548\n",
      "Epoch: 034 | Train ACC: 0.858 | Cost: 0.543\n",
      "Epoch: 035 | Train ACC: 0.858 | Cost: 0.538\n",
      "Epoch: 036 | Train ACC: 0.858 | Cost: 0.533\n",
      "Epoch: 037 | Train ACC: 0.858 | Cost: 0.528\n",
      "Epoch: 038 | Train ACC: 0.858 | Cost: 0.524\n",
      "Epoch: 039 | Train ACC: 0.858 | Cost: 0.519\n",
      "Epoch: 040 | Train ACC: 0.858 | Cost: 0.515\n",
      "Epoch: 041 | Train ACC: 0.858 | Cost: 0.511\n",
      "Epoch: 042 | Train ACC: 0.858 | Cost: 0.507\n",
      "Epoch: 043 | Train ACC: 0.858 | Cost: 0.503\n",
      "Epoch: 044 | Train ACC: 0.858 | Cost: 0.499\n",
      "Epoch: 045 | Train ACC: 0.858 | Cost: 0.496\n",
      "Epoch: 046 | Train ACC: 0.858 | Cost: 0.492\n",
      "Epoch: 047 | Train ACC: 0.858 | Cost: 0.489\n",
      "Epoch: 048 | Train ACC: 0.858 | Cost: 0.486\n",
      "Epoch: 049 | Train ACC: 0.858 | Cost: 0.483\n",
      "Epoch: 050 | Train ACC: 0.858 | Cost: 0.479\n",
      "\n",
      "Model parameters:\n",
      "  Weights: Parameter containing:\n",
      "tensor([[ 0.5585, -1.0257],\n",
      "        [-0.5483,  0.0316],\n",
      "        [-0.0102,  0.9941]], requires_grad=True)\n",
      "  Bias: Parameter containing:\n",
      "tensor([-0.0553,  0.0340,  0.0213], requires_grad=True)\n"
     ]
    }
   ],
   "source": [
    "def comp_accuracy(true_labels, pred_labels):\n",
    "    accuracy = torch.sum(true_labels.view(-1).float() == \n",
    "                         pred_labels.float()).item() / true_labels.size(0)\n",
    "    return accuracy\n",
    "\n",
    "\n",
    "\n",
    "X_train = X_train.to(DEVICE)\n",
    "y_train = y_train.to(DEVICE)\n",
    "X_test = X_test.to(DEVICE)\n",
    "y_test = y_test.to(DEVICE)\n",
    "\n",
    "num_epochs = 50\n",
    "epoch_cost = []\n",
    "for epoch in range(num_epochs):\n",
    "    \n",
    "    #### Compute outputs ####\n",
    "    logits, probas = model2(X_train)\n",
    "    \n",
    "    #### Compute gradients ####\n",
    "    cost = F.cross_entropy(logits, y_train.long())\n",
    "    optimizer.zero_grad()\n",
    "    cost.backward()\n",
    "    epoch_cost.append(cost.item())\n",
    "    \n",
    "    #### Update weights ####  \n",
    "    optimizer.step()\n",
    "    \n",
    "    #### Logging ####      \n",
    "    logits, probas = model2(X_train)\n",
    "    acc = comp_accuracy(y_train, torch.argmax(probas, dim=1))\n",
    "    print('Epoch: %03d' % (epoch + 1), end=\"\")\n",
    "    print(' | Train ACC: %.3f' % acc, end=\"\")\n",
    "    print(' | Cost: %.3f' % F.cross_entropy(logits, y_train.long()))\n",
    "\n",
    "\n",
    "    \n",
    "print('\\nModel parameters:')\n",
    "print('  Weights: %s' % model2.linear.weight)\n",
    "print('  Bias: %s' % model2.linear.bias)"
   ]
  },
  {
   "cell_type": "code",
   "execution_count": 6,
   "metadata": {},
   "outputs": [
    {
     "data": {
      "image/png": "[encoded data removed]",
      "text/plain": [
       "<Figure size 432x288 with 1 Axes>"
      ]
     },
     "metadata": {
      "needs_background": "light"
     },
     "output_type": "display_data"
    }
   ],
   "source": [
    "plt.plot(epoch_cost)\n",
    "plt.ylabel('Log Likelihood Loss')\n",
    "plt.xlabel('Epoch')\n",
    "plt.show()"
   ]
  },
  {
   "cell_type": "code",
   "execution_count": 7,
   "metadata": {},
   "outputs": [],
   "source": [
    "def predict_labels(x, model):\n",
    "    logits, probas = model(x)\n",
    "    labels = torch.argmax(probas, dim=1)\n",
    "    return labels    \n",
    "\n",
    "def evaluate(x, y, model):\n",
    "    labels = predict_labels(x, model).float()\n",
    "    accuracy = torch.sum(labels.view(-1) == y.float()).item() / y.size(0)\n",
    "    return accuracy"
   ]
  },
  {
   "cell_type": "code",
   "execution_count": 8,
   "metadata": {},
   "outputs": [
    {
     "name": "stdout",
     "output_type": "stream",
     "text": [
      "Test set accuracy: 80.00%\n"
     ]
    }
   ],
   "source": [
    "X_test = X_test.to(DEVICE)\n",
    "y_test = y_test.to(DEVICE)\n",
    "\n",
    "\n",
    "test_acc = evaluate(X_test, y_test, model2)\n",
    "print('Test set accuracy: %.2f%%' % (test_acc*100))"
   ]
  },
  {
   "cell_type": "code",
   "execution_count": 9,
   "metadata": {},
   "outputs": [
    {
     "data": {
      "image/png": "[encoded data removed]",
      "text/plain": [
       "<Figure size 432x288 with 1 Axes>"
      ]
     },
     "metadata": {
      "needs_background": "light"
     },
     "output_type": "display_data"
    }
   ],
   "source": [
    "plot_decision_regions(X_train, y_train, classifier=model2)\n",
    "plt.xlabel('sepal length [cm]')\n",
    "plt.ylabel('petal length [cm]')\n",
    "plt.legend(loc='upper left')\n",
    "\n",
    "plt.tight_layout()\n",
    "plt.show()"
   ]
  },
  {
   "cell_type": "code",
   "execution_count": 10,
   "metadata": {},
   "outputs": [
    {
     "data": {
      "image/png": "[encoded data removed]",
      "text/plain": [
       "<Figure size 432x288 with 1 Axes>"
      ]
     },
     "metadata": {
      "needs_background": "light"
     },
     "output_type": "display_data"
    }
   ],
   "source": [
    "plot_decision_regions(X_test, y_test, classifier=model2)\n",
    "plt.xlabel('sepal length [cm]')\n",
    "plt.ylabel('petal length [cm]')\n",
    "plt.legend(loc='upper left')\n",
    "\n",
    "plt.tight_layout()\n",
    "plt.show()"
   ]
  },
  {
   "cell_type": "code",
   "execution_count": null,
   "metadata": {},
   "outputs": [],
   "source": []
  }
 ],
 "metadata": {
  "kernelspec": {
   "display_name": "Python 3",
   "language": "python",
   "name": "python3"
  },
  "language_info": {
   "codemirror_mode": {
    "name": "ipython",
    "version": 3
   },
   "file_extension": ".py",
   "mimetype": "text/x-python",
   "name": "python",
   "nbconvert_exporter": "python",
   "pygments_lexer": "ipython3",
   "version": "3.9.2"
  },
  "toc": {
   "nav_menu": {},
   "number_sections": true,
   "sideBar": true,
   "skip_h1_title": false,
   "title_cell": "Table of Contents",
   "title_sidebar": "Contents",
   "toc_cell": false,
   "toc_position": {},
   "toc_section_display": true,
   "toc_window_display": false
  }
 },
 "nbformat": 4,
 "nbformat_minor": 4
}
