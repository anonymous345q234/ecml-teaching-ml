{
 "cells": [
  {
   "cell_type": "markdown",
   "metadata": {},
   "source": [
    "# Softmax Regression (\"From Scratch\")"
   ]
  },
  {
   "cell_type": "markdown",
   "metadata": {},
   "source": [
    "Implementation of *classic* softmax regression (multinomial logistic regression)."
   ]
  },
  {
   "cell_type": "markdown",
   "metadata": {},
   "source": [
    "## Imports"
   ]
  },
  {
   "cell_type": "code",
   "execution_count": 1,
   "metadata": {},
   "outputs": [],
   "source": [
    "%matplotlib inline\n",
    "import matplotlib.pyplot as plt\n",
    "import torch\n",
    "import torch.nn.functional as F\n",
    "\n",
    "## Import from helper.py\n",
    "from helper import load_iris\n",
    "from helper import plot_iris\n",
    "from helper import plot_decision_regions"
   ]
  },
  {
   "cell_type": "markdown",
   "metadata": {},
   "source": [
    "## Preparing a dataset"
   ]
  },
  {
   "cell_type": "code",
   "execution_count": 2,
   "metadata": {},
   "outputs": [
    {
     "data": {
      "image/png": "[encoded data removed]",
      "text/plain": [
       "<Figure size 504x180 with 2 Axes>"
      ]
     },
     "metadata": {
      "needs_background": "light"
     },
     "output_type": "display_data"
    }
   ],
   "source": [
    "X_train, y_train, X_test, y_test = load_iris()\n",
    "plot_iris(X_train, y_train, X_test, y_test)"
   ]
  },
  {
   "cell_type": "markdown",
   "metadata": {},
   "source": [
    "## Low-level implementation with manual gradients"
   ]
  },
  {
   "cell_type": "code",
   "execution_count": 3,
   "metadata": {},
   "outputs": [],
   "source": [
    "DEVICE = torch.device(\"cuda:0\" if torch.cuda.is_available() else \"cpu\")"
   ]
  },
  {
   "cell_type": "code",
   "execution_count": 4,
   "metadata": {},
   "outputs": [],
   "source": [
    "def to_onehot(y, num_classes):\n",
    "    y_onehot = torch.FloatTensor(y.size(0), num_classes)\n",
    "    y_onehot.zero_()\n",
    "    y_cpu = y.to(torch.device('cpu'))\n",
    "    y_onehot.scatter_(1, y_cpu.view(-1, 1).long(), 1).float()\n",
    "    return y_onehot.to(DEVICE)\n",
    "\n",
    "def softmax(z):\n",
    "    return (torch.exp(z.t()) / torch.sum(torch.exp(z), dim=1)).t()\n",
    "                    \n",
    "def cross_entropy(softmax, y_target):\n",
    "    return -torch.sum(torch.log(softmax) * (y_target), dim=1)"
   ]
  },
  {
   "cell_type": "code",
   "execution_count": 5,
   "metadata": {},
   "outputs": [],
   "source": [
    "def custom_where(cond, x_1, x_2):\n",
    "    return (cond * x_1) + ((1-cond) * x_2)\n",
    "\n",
    "\n",
    "class SoftmaxRegression1():\n",
    "    def __init__(self, num_features, num_classes):\n",
    "        self.num_features = num_features\n",
    "        self.num_classes = num_classes\n",
    "        self.weights = torch.zeros(num_classes, num_features, \n",
    "                                   dtype=torch.float32, device=DEVICE)\n",
    "        self.bias = torch.zeros(num_classes, dtype=torch.float32, device=DEVICE)\n",
    "\n",
    "    def forward(self, x):\n",
    "        logits = torch.add(torch.mm(x, self.weights.t()), self.bias)\n",
    "        probas = softmax(logits)\n",
    "        return logits, probas\n",
    "        \n",
    "    def backward(self, x, y, probas):  \n",
    "        grad_loss_out = y - probas # 120 x 3 dimensional\n",
    "        grad_loss_w = -torch.mm(x.t(), grad_loss_out).t()\n",
    "        grad_loss_b = -torch.sum(grad_loss_out)\n",
    "        return grad_loss_w, grad_loss_b\n",
    "            \n",
    "    def predict_labels(self, x):\n",
    "        logits, probas = self.forward(x)\n",
    "        labels = torch.argmax(probas, dim=1)\n",
    "        return labels    \n",
    "            \n",
    "    def evaluate(self, x, y):\n",
    "        labels = self.predict_labels(x).float()\n",
    "        accuracy = torch.sum(labels.view(-1) == y.float()).item() / y.size(0)\n",
    "        return accuracy\n",
    "    \n",
    "    def train(self, x, y, num_epochs, learning_rate=0.01):\n",
    "        epoch_cost = []\n",
    "        for e in range(num_epochs):\n",
    "            \n",
    "            y_onehot = to_onehot(y, num_classes=self.num_classes)\n",
    "            \n",
    "            #### Compute outputs ####\n",
    "            logits, probas = self.forward(x)\n",
    "            \n",
    "            #### Compute gradients ####\n",
    "            grad_w, grad_b = self.backward(x, y_onehot, probas)\n",
    "\n",
    "            #### Update weights ####\n",
    "            self.weights -= learning_rate * grad_w / y.size(0)\n",
    "            self.bias -= learning_rate * grad_b / y.size(0)\n",
    "            \n",
    "            #### Logging ####\n",
    "            logits, probas = self.forward(x)\n",
    "            cost = torch.mean(cross_entropy(probas, y_onehot))\n",
    "            print('Epoch: %03d' % (e+1), end=\"\")\n",
    "            print(' | Train ACC: %.3f' % self.evaluate(x, y), end=\"\")\n",
    "            print(' | Cost: %.3f' % cost)\n",
    "            epoch_cost.append(cost)\n",
    "        return epoch_cost"
   ]
  },
  {
   "cell_type": "code",
   "execution_count": 6,
   "metadata": {},
   "outputs": [
    {
     "name": "stdout",
     "output_type": "stream",
     "text": [
      "Epoch: 001 | Train ACC: 0.867 | Cost: 1.055\n",
      "Epoch: 002 | Train ACC: 0.867 | Cost: 1.016\n",
      "Epoch: 003 | Train ACC: 0.867 | Cost: 0.979\n",
      "Epoch: 004 | Train ACC: 0.858 | Cost: 0.945\n",
      "Epoch: 005 | Train ACC: 0.858 | Cost: 0.914\n",
      "Epoch: 006 | Train ACC: 0.858 | Cost: 0.886\n",
      "Epoch: 007 | Train ACC: 0.858 | Cost: 0.859\n",
      "Epoch: 008 | Train ACC: 0.858 | Cost: 0.835\n",
      "Epoch: 009 | Train ACC: 0.858 | Cost: 0.812\n",
      "Epoch: 010 | Train ACC: 0.858 | Cost: 0.791\n",
      "Epoch: 011 | Train ACC: 0.858 | Cost: 0.772\n",
      "Epoch: 012 | Train ACC: 0.858 | Cost: 0.754\n",
      "Epoch: 013 | Train ACC: 0.858 | Cost: 0.737\n",
      "Epoch: 014 | Train ACC: 0.858 | Cost: 0.722\n",
      "Epoch: 015 | Train ACC: 0.858 | Cost: 0.707\n",
      "Epoch: 016 | Train ACC: 0.858 | Cost: 0.693\n",
      "Epoch: 017 | Train ACC: 0.858 | Cost: 0.680\n",
      "Epoch: 018 | Train ACC: 0.858 | Cost: 0.668\n",
      "Epoch: 019 | Train ACC: 0.858 | Cost: 0.657\n",
      "Epoch: 020 | Train ACC: 0.858 | Cost: 0.646\n",
      "Epoch: 021 | Train ACC: 0.858 | Cost: 0.636\n",
      "Epoch: 022 | Train ACC: 0.858 | Cost: 0.627\n",
      "Epoch: 023 | Train ACC: 0.858 | Cost: 0.618\n",
      "Epoch: 024 | Train ACC: 0.858 | Cost: 0.609\n",
      "Epoch: 025 | Train ACC: 0.858 | Cost: 0.601\n",
      "Epoch: 026 | Train ACC: 0.858 | Cost: 0.593\n",
      "Epoch: 027 | Train ACC: 0.858 | Cost: 0.586\n",
      "Epoch: 028 | Train ACC: 0.858 | Cost: 0.579\n",
      "Epoch: 029 | Train ACC: 0.858 | Cost: 0.572\n",
      "Epoch: 030 | Train ACC: 0.858 | Cost: 0.566\n",
      "Epoch: 031 | Train ACC: 0.858 | Cost: 0.560\n",
      "Epoch: 032 | Train ACC: 0.858 | Cost: 0.554\n",
      "Epoch: 033 | Train ACC: 0.858 | Cost: 0.549\n",
      "Epoch: 034 | Train ACC: 0.858 | Cost: 0.543\n",
      "Epoch: 035 | Train ACC: 0.858 | Cost: 0.538\n",
      "Epoch: 036 | Train ACC: 0.858 | Cost: 0.533\n",
      "Epoch: 037 | Train ACC: 0.858 | Cost: 0.529\n",
      "Epoch: 038 | Train ACC: 0.858 | Cost: 0.524\n",
      "Epoch: 039 | Train ACC: 0.858 | Cost: 0.520\n",
      "Epoch: 040 | Train ACC: 0.858 | Cost: 0.516\n",
      "Epoch: 041 | Train ACC: 0.858 | Cost: 0.512\n",
      "Epoch: 042 | Train ACC: 0.858 | Cost: 0.508\n",
      "Epoch: 043 | Train ACC: 0.858 | Cost: 0.504\n",
      "Epoch: 044 | Train ACC: 0.858 | Cost: 0.500\n",
      "Epoch: 045 | Train ACC: 0.858 | Cost: 0.497\n",
      "Epoch: 046 | Train ACC: 0.858 | Cost: 0.494\n",
      "Epoch: 047 | Train ACC: 0.858 | Cost: 0.490\n",
      "Epoch: 048 | Train ACC: 0.858 | Cost: 0.487\n",
      "Epoch: 049 | Train ACC: 0.858 | Cost: 0.484\n",
      "Epoch: 050 | Train ACC: 0.858 | Cost: 0.481\n",
      "\n",
      "Model parameters:\n",
      "  Weights: tensor([[ 0.5582, -1.0240],\n",
      "        [-0.5462,  0.0258],\n",
      "        [-0.0119,  0.9982]])\n",
      "  Bias: tensor([-7.0532e-09, -7.0532e-09, -7.0532e-09])\n"
     ]
    }
   ],
   "source": [
    "X_train = X_train.to(DEVICE)\n",
    "y_train = y_train.to(DEVICE)\n",
    "\n",
    "model1 = SoftmaxRegression1(num_features=2, num_classes=3)\n",
    "epoch_cost = model1.train(X_train, y_train, \n",
    "                          num_epochs=50,\n",
    "                          learning_rate=0.1)\n",
    "\n",
    "print('\\nModel parameters:')\n",
    "print('  Weights: %s' % model1.weights)\n",
    "print('  Bias: %s' % model1.bias)"
   ]
  },
  {
   "cell_type": "markdown",
   "metadata": {},
   "source": [
    "#### Evaluating the Model"
   ]
  },
  {
   "cell_type": "code",
   "execution_count": 7,
   "metadata": {},
   "outputs": [
    {
     "data": {
      "image/png": "[encoded data removed]",
      "text/plain": [
       "<Figure size 432x288 with 1 Axes>"
      ]
     },
     "metadata": {
      "needs_background": "light"
     },
     "output_type": "display_data"
    }
   ],
   "source": [
    "plt.plot(epoch_cost)\n",
    "plt.ylabel('Log Likelihood Loss')\n",
    "plt.xlabel('Epoch')\n",
    "plt.show()"
   ]
  },
  {
   "cell_type": "code",
   "execution_count": 8,
   "metadata": {},
   "outputs": [
    {
     "name": "stdout",
     "output_type": "stream",
     "text": [
      "Test set accuracy: 80.00%\n"
     ]
    }
   ],
   "source": [
    "X_test = X_test.to(DEVICE)\n",
    "y_test = y_test.to(DEVICE)\n",
    "\n",
    "test_acc = model1.evaluate(X_test, y_test)\n",
    "print('Test set accuracy: %.2f%%' % (test_acc*100))"
   ]
  },
  {
   "cell_type": "code",
   "execution_count": 9,
   "metadata": {},
   "outputs": [
    {
     "data": {
      "image/png": "[encoded data removed]",
      "text/plain": [
       "<Figure size 432x288 with 1 Axes>"
      ]
     },
     "metadata": {
      "needs_background": "light"
     },
     "output_type": "display_data"
    }
   ],
   "source": [
    "plot_decision_regions(X_train, y_train, classifier=model1)\n",
    "plt.xlabel('sepal length [cm]')\n",
    "plt.ylabel('petal length [cm]')\n",
    "plt.legend(loc='upper left')\n",
    "\n",
    "plt.tight_layout()\n",
    "plt.show()"
   ]
  },
  {
   "cell_type": "markdown",
   "metadata": {},
   "source": [
    "## High-level implementation using the nn.Module API"
   ]
  },
  {
   "cell_type": "code",
   "execution_count": 10,
   "metadata": {},
   "outputs": [],
   "source": [
    "class SoftmaxRegression2(torch.nn.Module):\n",
    "\n",
    "    def __init__(self, num_features, num_classes):\n",
    "        super(SoftmaxRegression2, self).__init__()\n",
    "        self.linear = torch.nn.Linear(num_features, num_classes)\n",
    "        # initialize weights to zeros here,\n",
    "        # since we used zero weights in the\n",
    "        # manual approach\n",
    "        \n",
    "        self.linear.weight.detach().zero_()\n",
    "        self.linear.bias.detach().zero_()\n",
    "        # Note: the trailing underscore\n",
    "        # means \"in-place operation\" in the context\n",
    "        # of PyTorch\n",
    "        \n",
    "    def forward(self, x):\n",
    "        logits = self.linear(x)\n",
    "        probas = F.softmax(logits, dim=1)\n",
    "        return logits, probas\n",
    "\n",
    "model2 = SoftmaxRegression2(num_features=2, num_classes=3).to(DEVICE)\n",
    "optimizer = torch.optim.SGD(model2.parameters(), lr=0.1)"
   ]
  },
  {
   "cell_type": "code",
   "execution_count": 11,
   "metadata": {},
   "outputs": [
    {
     "name": "stdout",
     "output_type": "stream",
     "text": [
      "Epoch: 001 | Train ACC: 0.833 | Cost: 1.055\n",
      "Epoch: 002 | Train ACC: 0.833 | Cost: 1.015\n",
      "Epoch: 003 | Train ACC: 0.833 | Cost: 0.979\n",
      "Epoch: 004 | Train ACC: 0.833 | Cost: 0.945\n",
      "Epoch: 005 | Train ACC: 0.833 | Cost: 0.914\n",
      "Epoch: 006 | Train ACC: 0.833 | Cost: 0.885\n",
      "Epoch: 007 | Train ACC: 0.833 | Cost: 0.859\n",
      "Epoch: 008 | Train ACC: 0.833 | Cost: 0.835\n",
      "Epoch: 009 | Train ACC: 0.833 | Cost: 0.812\n",
      "Epoch: 010 | Train ACC: 0.833 | Cost: 0.791\n",
      "Epoch: 011 | Train ACC: 0.833 | Cost: 0.772\n",
      "Epoch: 012 | Train ACC: 0.833 | Cost: 0.754\n",
      "Epoch: 013 | Train ACC: 0.833 | Cost: 0.737\n",
      "Epoch: 014 | Train ACC: 0.833 | Cost: 0.722\n",
      "Epoch: 015 | Train ACC: 0.833 | Cost: 0.707\n",
      "Epoch: 016 | Train ACC: 0.833 | Cost: 0.693\n",
      "Epoch: 017 | Train ACC: 0.833 | Cost: 0.680\n",
      "Epoch: 018 | Train ACC: 0.833 | Cost: 0.668\n",
      "Epoch: 019 | Train ACC: 0.833 | Cost: 0.657\n",
      "Epoch: 020 | Train ACC: 0.833 | Cost: 0.646\n",
      "Epoch: 021 | Train ACC: 0.842 | Cost: 0.636\n",
      "Epoch: 022 | Train ACC: 0.867 | Cost: 0.627\n",
      "Epoch: 023 | Train ACC: 0.867 | Cost: 0.618\n",
      "Epoch: 024 | Train ACC: 0.867 | Cost: 0.609\n",
      "Epoch: 025 | Train ACC: 0.867 | Cost: 0.601\n",
      "Epoch: 026 | Train ACC: 0.867 | Cost: 0.593\n",
      "Epoch: 027 | Train ACC: 0.858 | Cost: 0.586\n",
      "Epoch: 028 | Train ACC: 0.858 | Cost: 0.579\n",
      "Epoch: 029 | Train ACC: 0.858 | Cost: 0.572\n",
      "Epoch: 030 | Train ACC: 0.858 | Cost: 0.566\n",
      "Epoch: 031 | Train ACC: 0.858 | Cost: 0.560\n",
      "Epoch: 032 | Train ACC: 0.858 | Cost: 0.554\n",
      "Epoch: 033 | Train ACC: 0.858 | Cost: 0.548\n",
      "Epoch: 034 | Train ACC: 0.858 | Cost: 0.543\n",
      "Epoch: 035 | Train ACC: 0.858 | Cost: 0.538\n",
      "Epoch: 036 | Train ACC: 0.858 | Cost: 0.533\n",
      "Epoch: 037 | Train ACC: 0.858 | Cost: 0.528\n",
      "Epoch: 038 | Train ACC: 0.858 | Cost: 0.524\n",
      "Epoch: 039 | Train ACC: 0.858 | Cost: 0.519\n",
      "Epoch: 040 | Train ACC: 0.858 | Cost: 0.515\n",
      "Epoch: 041 | Train ACC: 0.858 | Cost: 0.511\n",
      "Epoch: 042 | Train ACC: 0.858 | Cost: 0.507\n",
      "Epoch: 043 | Train ACC: 0.858 | Cost: 0.503\n",
      "Epoch: 044 | Train ACC: 0.858 | Cost: 0.499\n",
      "Epoch: 045 | Train ACC: 0.858 | Cost: 0.496\n",
      "Epoch: 046 | Train ACC: 0.858 | Cost: 0.492\n",
      "Epoch: 047 | Train ACC: 0.858 | Cost: 0.489\n",
      "Epoch: 048 | Train ACC: 0.858 | Cost: 0.486\n",
      "Epoch: 049 | Train ACC: 0.858 | Cost: 0.483\n",
      "Epoch: 050 | Train ACC: 0.858 | Cost: 0.479\n",
      "Epoch: 051 | Train ACC: 0.858 | Cost: 0.477\n",
      "Epoch: 052 | Train ACC: 0.858 | Cost: 0.474\n",
      "Epoch: 053 | Train ACC: 0.858 | Cost: 0.471\n",
      "Epoch: 054 | Train ACC: 0.858 | Cost: 0.468\n",
      "Epoch: 055 | Train ACC: 0.858 | Cost: 0.465\n",
      "Epoch: 056 | Train ACC: 0.858 | Cost: 0.463\n",
      "Epoch: 057 | Train ACC: 0.858 | Cost: 0.460\n",
      "Epoch: 058 | Train ACC: 0.858 | Cost: 0.458\n",
      "Epoch: 059 | Train ACC: 0.858 | Cost: 0.456\n",
      "Epoch: 060 | Train ACC: 0.858 | Cost: 0.453\n",
      "Epoch: 061 | Train ACC: 0.858 | Cost: 0.451\n",
      "Epoch: 062 | Train ACC: 0.858 | Cost: 0.449\n",
      "Epoch: 063 | Train ACC: 0.858 | Cost: 0.447\n",
      "Epoch: 064 | Train ACC: 0.867 | Cost: 0.444\n",
      "Epoch: 065 | Train ACC: 0.867 | Cost: 0.442\n",
      "Epoch: 066 | Train ACC: 0.867 | Cost: 0.440\n",
      "Epoch: 067 | Train ACC: 0.875 | Cost: 0.438\n",
      "Epoch: 068 | Train ACC: 0.875 | Cost: 0.437\n",
      "Epoch: 069 | Train ACC: 0.875 | Cost: 0.435\n",
      "Epoch: 070 | Train ACC: 0.875 | Cost: 0.433\n",
      "Epoch: 071 | Train ACC: 0.883 | Cost: 0.431\n",
      "Epoch: 072 | Train ACC: 0.883 | Cost: 0.429\n",
      "Epoch: 073 | Train ACC: 0.883 | Cost: 0.428\n",
      "Epoch: 074 | Train ACC: 0.883 | Cost: 0.426\n",
      "Epoch: 075 | Train ACC: 0.883 | Cost: 0.424\n",
      "Epoch: 076 | Train ACC: 0.883 | Cost: 0.423\n",
      "Epoch: 077 | Train ACC: 0.892 | Cost: 0.421\n",
      "Epoch: 078 | Train ACC: 0.892 | Cost: 0.419\n",
      "Epoch: 079 | Train ACC: 0.892 | Cost: 0.418\n",
      "Epoch: 080 | Train ACC: 0.892 | Cost: 0.416\n",
      "Epoch: 081 | Train ACC: 0.892 | Cost: 0.415\n",
      "Epoch: 082 | Train ACC: 0.892 | Cost: 0.413\n",
      "Epoch: 083 | Train ACC: 0.892 | Cost: 0.412\n",
      "Epoch: 084 | Train ACC: 0.892 | Cost: 0.411\n",
      "Epoch: 085 | Train ACC: 0.892 | Cost: 0.409\n",
      "Epoch: 086 | Train ACC: 0.892 | Cost: 0.408\n",
      "Epoch: 087 | Train ACC: 0.892 | Cost: 0.406\n",
      "Epoch: 088 | Train ACC: 0.892 | Cost: 0.405\n",
      "Epoch: 089 | Train ACC: 0.892 | Cost: 0.404\n",
      "Epoch: 090 | Train ACC: 0.892 | Cost: 0.403\n",
      "Epoch: 091 | Train ACC: 0.892 | Cost: 0.401\n",
      "Epoch: 092 | Train ACC: 0.892 | Cost: 0.400\n",
      "Epoch: 093 | Train ACC: 0.892 | Cost: 0.399\n",
      "Epoch: 094 | Train ACC: 0.892 | Cost: 0.398\n",
      "Epoch: 095 | Train ACC: 0.892 | Cost: 0.397\n",
      "Epoch: 096 | Train ACC: 0.892 | Cost: 0.395\n",
      "Epoch: 097 | Train ACC: 0.892 | Cost: 0.394\n",
      "Epoch: 098 | Train ACC: 0.892 | Cost: 0.393\n",
      "Epoch: 099 | Train ACC: 0.892 | Cost: 0.392\n",
      "Epoch: 100 | Train ACC: 0.892 | Cost: 0.391\n",
      "\n",
      "Model parameters:\n",
      "  Weights: Parameter containing:\n",
      "tensor([[ 0.7149, -1.4416],\n",
      "        [-0.7103,  0.0133],\n",
      "        [-0.0046,  1.4283]], requires_grad=True)\n",
      "  Bias: Parameter containing:\n",
      "tensor([-0.1251,  0.1537, -0.0285], requires_grad=True)\n"
     ]
    }
   ],
   "source": [
    "def comp_accuracy(true_labels, pred_labels):\n",
    "    accuracy = torch.sum(true_labels.view(-1).float() == \n",
    "                         pred_labels.float()).item() / true_labels.size(0)\n",
    "    return accuracy\n",
    "\n",
    "\n",
    "\n",
    "X_train = X_train.to(DEVICE)\n",
    "y_train = y_train.to(DEVICE)\n",
    "X_test = X_test.to(DEVICE)\n",
    "y_test = y_test.to(DEVICE)\n",
    "\n",
    "num_epochs = 100\n",
    "for epoch in range(num_epochs):\n",
    "    \n",
    "    #### Compute outputs ####\n",
    "    logits, probas = model2(X_train)\n",
    "    \n",
    "    #### Compute gradients ####\n",
    "    cost = F.cross_entropy(logits, y_train.long())\n",
    "    optimizer.zero_grad()\n",
    "    cost.backward()\n",
    "    \n",
    "    #### Update weights ####  \n",
    "    optimizer.step()\n",
    "    \n",
    "    #### Logging ####      \n",
    "    logits, probas = model2(X_train)\n",
    "    acc = comp_accuracy(y_train, torch.argmax(probas, dim=1))\n",
    "    print('Epoch: %03d' % (epoch + 1), end=\"\")\n",
    "    print(' | Train ACC: %.3f' % acc, end=\"\")\n",
    "    print(' | Cost: %.3f' % F.cross_entropy(logits, y_train.long()))\n",
    "\n",
    "\n",
    "    \n",
    "print('\\nModel parameters:')\n",
    "print('  Weights: %s' % model2.linear.weight)\n",
    "print('  Bias: %s' % model2.linear.bias)"
   ]
  },
  {
   "cell_type": "code",
   "execution_count": 12,
   "metadata": {},
   "outputs": [
    {
     "name": "stdout",
     "output_type": "stream",
     "text": [
      "Test set accuracy: 80.00%\n"
     ]
    }
   ],
   "source": [
    "X_test = X_test.to(DEVICE)\n",
    "y_test = y_test.to(DEVICE)\n",
    "\n",
    "test_acc = model1.evaluate(X_test, y_test)\n",
    "print('Test set accuracy: %.2f%%' % (test_acc*100))"
   ]
  },
  {
   "cell_type": "code",
   "execution_count": 13,
   "metadata": {},
   "outputs": [
    {
     "data": {
      "image/png": "[encoded data removed]",
      "text/plain": [
       "<Figure size 432x288 with 1 Axes>"
      ]
     },
     "metadata": {
      "needs_background": "light"
     },
     "output_type": "display_data"
    }
   ],
   "source": [
    "plot_decision_regions(X_train, y_train, classifier=model2)\n",
    "plt.xlabel('sepal length [cm]')\n",
    "plt.ylabel('petal length [cm]')\n",
    "plt.legend(loc='upper left')\n",
    "\n",
    "plt.tight_layout()\n",
    "plt.show()"
   ]
  },
  {
   "cell_type": "code",
   "execution_count": 14,
   "metadata": {},
   "outputs": [
    {
     "data": {
      "image/png": "[encoded data removed]",
      "text/plain": [
       "<Figure size 432x288 with 1 Axes>"
      ]
     },
     "metadata": {
      "needs_background": "light"
     },
     "output_type": "display_data"
    }
   ],
   "source": [
    "plot_decision_regions(X_test, y_test, classifier=model2)\n",
    "plt.xlabel('sepal length [cm]')\n",
    "plt.ylabel('petal length [cm]')\n",
    "plt.legend(loc='upper left')\n",
    "\n",
    "plt.tight_layout()\n",
    "plt.show()"
   ]
  }
 ],
 "metadata": {
  "kernelspec": {
   "display_name": "Python 3",
   "language": "python",
   "name": "python3"
  },
  "language_info": {
   "codemirror_mode": {
    "name": "ipython",
    "version": 3
   },
   "file_extension": ".py",
   "mimetype": "text/x-python",
   "name": "python",
   "nbconvert_exporter": "python",
   "pygments_lexer": "ipython3",
   "version": "3.9.2"
  },
  "toc": {
   "nav_menu": {},
   "number_sections": true,
   "sideBar": true,
   "skip_h1_title": false,
   "title_cell": "Table of Contents",
   "title_sidebar": "Contents",
   "toc_cell": false,
   "toc_position": {},
   "toc_section_display": true,
   "toc_window_display": false
  }
 },
 "nbformat": 4,
 "nbformat_minor": 4
}
